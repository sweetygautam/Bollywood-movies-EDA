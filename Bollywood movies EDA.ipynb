{
 "cells": [
  {
   "cell_type": "markdown",
   "id": "68c4772b",
   "metadata": {},
   "source": [
    "## EDA - Exploratory Data Analysis: Using Python Functions\n",
    "\n",
    "EDA is applied to investigate the data and summarize the key insights."
   ]
  },
  {
   "cell_type": "code",
   "execution_count": 92,
   "id": "f83feb6f",
   "metadata": {},
   "outputs": [],
   "source": [
    "import numpy as np\n",
    "import pandas as pd\n",
    "import seaborn as sns\n",
    "import pylab\n",
    "from matplotlib import pyplot as plt"
   ]
  },
  {
   "cell_type": "markdown",
   "id": "4bdda578",
   "metadata": {},
   "source": [
    "The dataset has popular Bollywood movies from 2018 till 2021 on IMDB. The data set comprises of the Name, Year of release, Rating, No of Votes and Length in minutes of the movies.\n",
    "\n",
    "I was thinking that this could be a great dataset for beginner in Python. There are so much you can do with this simple data set from data cleaning, data manipulating, data visualization and looking for trends in data."
   ]
  },
  {
   "cell_type": "markdown",
   "id": "3ede5542",
   "metadata": {},
   "source": [
    "## Load the Data"
   ]
  },
  {
   "cell_type": "code",
   "execution_count": 3,
   "id": "bf5de4e6",
   "metadata": {},
   "outputs": [
    {
     "data": {
      "text/html": [
       "<div>\n",
       "<style scoped>\n",
       "    .dataframe tbody tr th:only-of-type {\n",
       "        vertical-align: middle;\n",
       "    }\n",
       "\n",
       "    .dataframe tbody tr th {\n",
       "        vertical-align: top;\n",
       "    }\n",
       "\n",
       "    .dataframe thead th {\n",
       "        text-align: right;\n",
       "    }\n",
       "</style>\n",
       "<table border=\"1\" class=\"dataframe\">\n",
       "  <thead>\n",
       "    <tr style=\"text-align: right;\">\n",
       "      <th></th>\n",
       "      <th>Name</th>\n",
       "      <th>Year</th>\n",
       "      <th>Rating</th>\n",
       "      <th>Runtime</th>\n",
       "      <th>Votes</th>\n",
       "    </tr>\n",
       "  </thead>\n",
       "  <tbody>\n",
       "    <tr>\n",
       "      <th>0</th>\n",
       "      <td>Skater Girl</td>\n",
       "      <td>2021</td>\n",
       "      <td>6.6</td>\n",
       "      <td>107.0</td>\n",
       "      <td>1122.0</td>\n",
       "    </tr>\n",
       "    <tr>\n",
       "      <th>1</th>\n",
       "      <td>Radhe</td>\n",
       "      <td>2021</td>\n",
       "      <td>1.8</td>\n",
       "      <td>135.0</td>\n",
       "      <td>162353.0</td>\n",
       "    </tr>\n",
       "    <tr>\n",
       "      <th>2</th>\n",
       "      <td>Soorarai Pottru</td>\n",
       "      <td>2020</td>\n",
       "      <td>9.1</td>\n",
       "      <td>153.0</td>\n",
       "      <td>82987.0</td>\n",
       "    </tr>\n",
       "    <tr>\n",
       "      <th>3</th>\n",
       "      <td>Sandeep Aur Pinky Faraar</td>\n",
       "      <td>2021</td>\n",
       "      <td>6.3</td>\n",
       "      <td>125.0</td>\n",
       "      <td>6480.0</td>\n",
       "    </tr>\n",
       "    <tr>\n",
       "      <th>4</th>\n",
       "      <td>The White Tiger</td>\n",
       "      <td>2021</td>\n",
       "      <td>7.1</td>\n",
       "      <td>125.0</td>\n",
       "      <td>49865.0</td>\n",
       "    </tr>\n",
       "    <tr>\n",
       "      <th>...</th>\n",
       "      <td>...</td>\n",
       "      <td>...</td>\n",
       "      <td>...</td>\n",
       "      <td>...</td>\n",
       "      <td>...</td>\n",
       "    </tr>\n",
       "    <tr>\n",
       "      <th>945</th>\n",
       "      <td>Miracle</td>\n",
       "      <td>2019</td>\n",
       "      <td>NaN</td>\n",
       "      <td>NaN</td>\n",
       "      <td>NaN</td>\n",
       "    </tr>\n",
       "    <tr>\n",
       "      <th>946</th>\n",
       "      <td>Sridevi Bungalow</td>\n",
       "      <td>NaN</td>\n",
       "      <td>NaN</td>\n",
       "      <td>NaN</td>\n",
       "      <td>NaN</td>\n",
       "    </tr>\n",
       "    <tr>\n",
       "      <th>947</th>\n",
       "      <td>Haaye Dil</td>\n",
       "      <td>NaN</td>\n",
       "      <td>NaN</td>\n",
       "      <td>NaN</td>\n",
       "      <td>NaN</td>\n",
       "    </tr>\n",
       "    <tr>\n",
       "      <th>948</th>\n",
       "      <td>Umakant Pandey Purush Ya</td>\n",
       "      <td>2019</td>\n",
       "      <td>7.0</td>\n",
       "      <td>120.0</td>\n",
       "      <td>49.0</td>\n",
       "    </tr>\n",
       "    <tr>\n",
       "      <th>949</th>\n",
       "      <td>Ghost Story - An Abstract Film</td>\n",
       "      <td>2020</td>\n",
       "      <td>8.4</td>\n",
       "      <td>NaN</td>\n",
       "      <td>8.0</td>\n",
       "    </tr>\n",
       "  </tbody>\n",
       "</table>\n",
       "<p>950 rows × 5 columns</p>\n",
       "</div>"
      ],
      "text/plain": [
       "                               Name  Year  Rating  Runtime     Votes\n",
       "0                       Skater Girl  2021     6.6    107.0    1122.0\n",
       "1                             Radhe  2021     1.8    135.0  162353.0\n",
       "2                   Soorarai Pottru  2020     9.1    153.0   82987.0\n",
       "3          Sandeep Aur Pinky Faraar  2021     6.3    125.0    6480.0\n",
       "4                   The White Tiger  2021     7.1    125.0   49865.0\n",
       "..                              ...   ...     ...      ...       ...\n",
       "945                         Miracle  2019     NaN      NaN       NaN\n",
       "946                Sridevi Bungalow   NaN     NaN      NaN       NaN\n",
       "947                       Haaye Dil   NaN     NaN      NaN       NaN\n",
       "948        Umakant Pandey Purush Ya  2019     7.0    120.0      49.0\n",
       "949  Ghost Story - An Abstract Film  2020     8.4      NaN       8.0\n",
       "\n",
       "[950 rows x 5 columns]"
      ]
     },
     "execution_count": 3,
     "metadata": {},
     "output_type": "execute_result"
    }
   ],
   "source": [
    "data=pd.read_csv(\"C:\\\\Users\\\\dell\\\\Downloads\\\\bollywood1to950.csv\")\n",
    "data"
   ]
  },
  {
   "cell_type": "markdown",
   "id": "db06c8cd",
   "metadata": {},
   "source": [
    "## Basic information about data"
   ]
  },
  {
   "cell_type": "code",
   "execution_count": 4,
   "id": "8a5373e7",
   "metadata": {},
   "outputs": [
    {
     "data": {
      "text/plain": [
       "(950, 5)"
      ]
     },
     "execution_count": 4,
     "metadata": {},
     "output_type": "execute_result"
    }
   ],
   "source": [
    "data.shape"
   ]
  },
  {
   "cell_type": "code",
   "execution_count": 5,
   "id": "b4f69aaa",
   "metadata": {},
   "outputs": [
    {
     "data": {
      "text/plain": [
       "Index(['Name', 'Year', 'Rating', 'Runtime', 'Votes'], dtype='object')"
      ]
     },
     "execution_count": 5,
     "metadata": {},
     "output_type": "execute_result"
    }
   ],
   "source": [
    "data.columns"
   ]
  },
  {
   "cell_type": "markdown",
   "id": "96ef848e",
   "metadata": {},
   "source": [
    "## Describe the data in Descriptive Statistics."
   ]
  },
  {
   "cell_type": "code",
   "execution_count": 6,
   "id": "7eb334bc",
   "metadata": {},
   "outputs": [
    {
     "data": {
      "text/html": [
       "<div>\n",
       "<style scoped>\n",
       "    .dataframe tbody tr th:only-of-type {\n",
       "        vertical-align: middle;\n",
       "    }\n",
       "\n",
       "    .dataframe tbody tr th {\n",
       "        vertical-align: top;\n",
       "    }\n",
       "\n",
       "    .dataframe thead th {\n",
       "        text-align: right;\n",
       "    }\n",
       "</style>\n",
       "<table border=\"1\" class=\"dataframe\">\n",
       "  <thead>\n",
       "    <tr style=\"text-align: right;\">\n",
       "      <th></th>\n",
       "      <th>Rating</th>\n",
       "      <th>Runtime</th>\n",
       "      <th>Votes</th>\n",
       "    </tr>\n",
       "  </thead>\n",
       "  <tbody>\n",
       "    <tr>\n",
       "      <th>count</th>\n",
       "      <td>577.000000</td>\n",
       "      <td>630.000000</td>\n",
       "      <td>577.000000</td>\n",
       "    </tr>\n",
       "    <tr>\n",
       "      <th>mean</th>\n",
       "      <td>6.208492</td>\n",
       "      <td>116.747619</td>\n",
       "      <td>4528.963605</td>\n",
       "    </tr>\n",
       "    <tr>\n",
       "      <th>std</th>\n",
       "      <td>1.671071</td>\n",
       "      <td>25.197183</td>\n",
       "      <td>12431.215077</td>\n",
       "    </tr>\n",
       "    <tr>\n",
       "      <th>min</th>\n",
       "      <td>1.100000</td>\n",
       "      <td>37.000000</td>\n",
       "      <td>5.000000</td>\n",
       "    </tr>\n",
       "    <tr>\n",
       "      <th>25%</th>\n",
       "      <td>5.200000</td>\n",
       "      <td>100.000000</td>\n",
       "      <td>50.000000</td>\n",
       "    </tr>\n",
       "    <tr>\n",
       "      <th>50%</th>\n",
       "      <td>6.500000</td>\n",
       "      <td>119.000000</td>\n",
       "      <td>498.000000</td>\n",
       "    </tr>\n",
       "    <tr>\n",
       "      <th>75%</th>\n",
       "      <td>7.400000</td>\n",
       "      <td>134.750000</td>\n",
       "      <td>3770.000000</td>\n",
       "    </tr>\n",
       "    <tr>\n",
       "      <th>max</th>\n",
       "      <td>9.700000</td>\n",
       "      <td>261.000000</td>\n",
       "      <td>162353.000000</td>\n",
       "    </tr>\n",
       "  </tbody>\n",
       "</table>\n",
       "</div>"
      ],
      "text/plain": [
       "           Rating     Runtime          Votes\n",
       "count  577.000000  630.000000     577.000000\n",
       "mean     6.208492  116.747619    4528.963605\n",
       "std      1.671071   25.197183   12431.215077\n",
       "min      1.100000   37.000000       5.000000\n",
       "25%      5.200000  100.000000      50.000000\n",
       "50%      6.500000  119.000000     498.000000\n",
       "75%      7.400000  134.750000    3770.000000\n",
       "max      9.700000  261.000000  162353.000000"
      ]
     },
     "execution_count": 6,
     "metadata": {},
     "output_type": "execute_result"
    }
   ],
   "source": [
    "data.describe()"
   ]
  },
  {
   "cell_type": "markdown",
   "id": "f90ea5a3",
   "metadata": {},
   "source": [
    "## Data Type and basic Infomation"
   ]
  },
  {
   "cell_type": "code",
   "execution_count": 7,
   "id": "7da56e2a",
   "metadata": {},
   "outputs": [
    {
     "name": "stdout",
     "output_type": "stream",
     "text": [
      "<class 'pandas.core.frame.DataFrame'>\n",
      "RangeIndex: 950 entries, 0 to 949\n",
      "Data columns (total 5 columns):\n",
      " #   Column   Non-Null Count  Dtype  \n",
      "---  ------   --------------  -----  \n",
      " 0   Name     950 non-null    object \n",
      " 1   Year     840 non-null    object \n",
      " 2   Rating   577 non-null    float64\n",
      " 3   Runtime  630 non-null    float64\n",
      " 4   Votes    577 non-null    float64\n",
      "dtypes: float64(3), object(2)\n",
      "memory usage: 37.2+ KB\n"
     ]
    }
   ],
   "source": [
    "data.info()"
   ]
  },
  {
   "cell_type": "markdown",
   "id": "ad176186",
   "metadata": {},
   "source": [
    "## Find the Null values"
   ]
  },
  {
   "cell_type": "code",
   "execution_count": 8,
   "id": "a2b9ea28",
   "metadata": {},
   "outputs": [
    {
     "data": {
      "text/plain": [
       "Name         0\n",
       "Year       110\n",
       "Rating     373\n",
       "Runtime    320\n",
       "Votes      373\n",
       "dtype: int64"
      ]
     },
     "execution_count": 8,
     "metadata": {},
     "output_type": "execute_result"
    }
   ],
   "source": [
    "data.isnull().sum()"
   ]
  },
  {
   "cell_type": "markdown",
   "id": "48ffaa08",
   "metadata": {},
   "source": [
    "## Visualization of null values"
   ]
  },
  {
   "cell_type": "code",
   "execution_count": 9,
   "id": "c51514c5",
   "metadata": {},
   "outputs": [
    {
     "data": {
      "text/plain": [
       "<AxesSubplot:>"
      ]
     },
     "execution_count": 9,
     "metadata": {},
     "output_type": "execute_result"
    },
    {
     "data": {
      "image/png": "[encoded data removed]",
      "text/plain": [
       "<Figure size 432x288 with 2 Axes>"
      ]
     },
     "metadata": {
      "needs_background": "light"
     },
     "output_type": "display_data"
    }
   ],
   "source": [
    "sns.heatmap(data.isnull())"
   ]
  },
  {
   "cell_type": "markdown",
   "id": "17ed68dd",
   "metadata": {},
   "source": [
    "## Drop Null value "
   ]
  },
  {
   "cell_type": "code",
   "execution_count": 10,
   "id": "6fc1d057",
   "metadata": {},
   "outputs": [],
   "source": [
    "data['Year'].dropna(inplace=True, axis=0)"
   ]
  },
  {
   "cell_type": "code",
   "execution_count": 11,
   "id": "c8039642",
   "metadata": {},
   "outputs": [],
   "source": [
    "data.dropna(subset=['Year'],inplace=True)"
   ]
  },
  {
   "cell_type": "code",
   "execution_count": 12,
   "id": "48e0611e",
   "metadata": {},
   "outputs": [
    {
     "data": {
      "text/html": [
       "<div>\n",
       "<style scoped>\n",
       "    .dataframe tbody tr th:only-of-type {\n",
       "        vertical-align: middle;\n",
       "    }\n",
       "\n",
       "    .dataframe tbody tr th {\n",
       "        vertical-align: top;\n",
       "    }\n",
       "\n",
       "    .dataframe thead th {\n",
       "        text-align: right;\n",
       "    }\n",
       "</style>\n",
       "<table border=\"1\" class=\"dataframe\">\n",
       "  <thead>\n",
       "    <tr style=\"text-align: right;\">\n",
       "      <th></th>\n",
       "      <th>Name</th>\n",
       "      <th>Year</th>\n",
       "      <th>Rating</th>\n",
       "      <th>Runtime</th>\n",
       "      <th>Votes</th>\n",
       "    </tr>\n",
       "  </thead>\n",
       "  <tbody>\n",
       "    <tr>\n",
       "      <th>0</th>\n",
       "      <td>Skater Girl</td>\n",
       "      <td>2021</td>\n",
       "      <td>6.6</td>\n",
       "      <td>107.0</td>\n",
       "      <td>1122.0</td>\n",
       "    </tr>\n",
       "    <tr>\n",
       "      <th>1</th>\n",
       "      <td>Radhe</td>\n",
       "      <td>2021</td>\n",
       "      <td>1.8</td>\n",
       "      <td>135.0</td>\n",
       "      <td>162353.0</td>\n",
       "    </tr>\n",
       "    <tr>\n",
       "      <th>2</th>\n",
       "      <td>Soorarai Pottru</td>\n",
       "      <td>2020</td>\n",
       "      <td>9.1</td>\n",
       "      <td>153.0</td>\n",
       "      <td>82987.0</td>\n",
       "    </tr>\n",
       "    <tr>\n",
       "      <th>3</th>\n",
       "      <td>Sandeep Aur Pinky Faraar</td>\n",
       "      <td>2021</td>\n",
       "      <td>6.3</td>\n",
       "      <td>125.0</td>\n",
       "      <td>6480.0</td>\n",
       "    </tr>\n",
       "    <tr>\n",
       "      <th>4</th>\n",
       "      <td>The White Tiger</td>\n",
       "      <td>2021</td>\n",
       "      <td>7.1</td>\n",
       "      <td>125.0</td>\n",
       "      <td>49865.0</td>\n",
       "    </tr>\n",
       "    <tr>\n",
       "      <th>...</th>\n",
       "      <td>...</td>\n",
       "      <td>...</td>\n",
       "      <td>...</td>\n",
       "      <td>...</td>\n",
       "      <td>...</td>\n",
       "    </tr>\n",
       "    <tr>\n",
       "      <th>942</th>\n",
       "      <td>Badmaash Bubbly</td>\n",
       "      <td>2019</td>\n",
       "      <td>NaN</td>\n",
       "      <td>67.0</td>\n",
       "      <td>NaN</td>\n",
       "    </tr>\n",
       "    <tr>\n",
       "      <th>944</th>\n",
       "      <td>Ae Kaash Ke Hum</td>\n",
       "      <td>2021</td>\n",
       "      <td>NaN</td>\n",
       "      <td>NaN</td>\n",
       "      <td>NaN</td>\n",
       "    </tr>\n",
       "    <tr>\n",
       "      <th>945</th>\n",
       "      <td>Miracle</td>\n",
       "      <td>2019</td>\n",
       "      <td>NaN</td>\n",
       "      <td>NaN</td>\n",
       "      <td>NaN</td>\n",
       "    </tr>\n",
       "    <tr>\n",
       "      <th>948</th>\n",
       "      <td>Umakant Pandey Purush Ya</td>\n",
       "      <td>2019</td>\n",
       "      <td>7.0</td>\n",
       "      <td>120.0</td>\n",
       "      <td>49.0</td>\n",
       "    </tr>\n",
       "    <tr>\n",
       "      <th>949</th>\n",
       "      <td>Ghost Story - An Abstract Film</td>\n",
       "      <td>2020</td>\n",
       "      <td>8.4</td>\n",
       "      <td>NaN</td>\n",
       "      <td>8.0</td>\n",
       "    </tr>\n",
       "  </tbody>\n",
       "</table>\n",
       "<p>840 rows × 5 columns</p>\n",
       "</div>"
      ],
      "text/plain": [
       "                               Name  Year  Rating  Runtime     Votes\n",
       "0                       Skater Girl  2021     6.6    107.0    1122.0\n",
       "1                             Radhe  2021     1.8    135.0  162353.0\n",
       "2                   Soorarai Pottru  2020     9.1    153.0   82987.0\n",
       "3          Sandeep Aur Pinky Faraar  2021     6.3    125.0    6480.0\n",
       "4                   The White Tiger  2021     7.1    125.0   49865.0\n",
       "..                              ...   ...     ...      ...       ...\n",
       "942                 Badmaash Bubbly  2019     NaN     67.0       NaN\n",
       "944                 Ae Kaash Ke Hum  2021     NaN      NaN       NaN\n",
       "945                         Miracle  2019     NaN      NaN       NaN\n",
       "948        Umakant Pandey Purush Ya  2019     7.0    120.0      49.0\n",
       "949  Ghost Story - An Abstract Film  2020     8.4      NaN       8.0\n",
       "\n",
       "[840 rows x 5 columns]"
      ]
     },
     "execution_count": 12,
     "metadata": {},
     "output_type": "execute_result"
    }
   ],
   "source": [
    "data"
   ]
  },
  {
   "cell_type": "code",
   "execution_count": 13,
   "id": "651443d9",
   "metadata": {},
   "outputs": [
    {
     "data": {
      "text/plain": [
       "Name         0\n",
       "Year         0\n",
       "Rating     263\n",
       "Runtime    232\n",
       "Votes      263\n",
       "dtype: int64"
      ]
     },
     "execution_count": 13,
     "metadata": {},
     "output_type": "execute_result"
    }
   ],
   "source": [
    "data.isnull().sum()"
   ]
  },
  {
   "cell_type": "markdown",
   "id": "4eaa8a74",
   "metadata": {},
   "source": [
    "## Replace the Null values"
   ]
  },
  {
   "cell_type": "code",
   "execution_count": 14,
   "id": "15804265",
   "metadata": {},
   "outputs": [
    {
     "name": "stderr",
     "output_type": "stream",
     "text": [
      "C:\\Users\\dell\\AppData\\Local\\Temp\\ipykernel_2512\\531903386.py:1: FutureWarning: Dropping of nuisance columns in DataFrame reductions (with 'numeric_only=None') is deprecated; in a future version this will raise TypeError.  Select only valid columns before calling the reduction.\n",
      "  data.mean()\n"
     ]
    },
    {
     "data": {
      "text/plain": [
       "Rating        6.208492\n",
       "Runtime     116.870066\n",
       "Votes      4528.963605\n",
       "dtype: float64"
      ]
     },
     "execution_count": 14,
     "metadata": {},
     "output_type": "execute_result"
    }
   ],
   "source": [
    "data.mean()"
   ]
  },
  {
   "cell_type": "code",
   "execution_count": 15,
   "id": "f1585a24",
   "metadata": {},
   "outputs": [
    {
     "name": "stderr",
     "output_type": "stream",
     "text": [
      "C:\\Users\\dell\\AppData\\Local\\Temp\\ipykernel_2512\\4184645713.py:1: FutureWarning: Dropping of nuisance columns in DataFrame reductions (with 'numeric_only=None') is deprecated; in a future version this will raise TypeError.  Select only valid columns before calling the reduction.\n",
      "  data.median()\n"
     ]
    },
    {
     "data": {
      "text/plain": [
       "Rating       6.5\n",
       "Runtime    119.0\n",
       "Votes      498.0\n",
       "dtype: float64"
      ]
     },
     "execution_count": 15,
     "metadata": {},
     "output_type": "execute_result"
    }
   ],
   "source": [
    "data.median()"
   ]
  },
  {
   "cell_type": "code",
   "execution_count": 16,
   "id": "888c6015",
   "metadata": {},
   "outputs": [],
   "source": [
    "data.Runtime.fillna(data['Runtime'].mean(),inplace=True)"
   ]
  },
  {
   "cell_type": "code",
   "execution_count": 17,
   "id": "77e57bf1",
   "metadata": {},
   "outputs": [],
   "source": [
    "data.Rating.fillna(data['Rating'].mean(),inplace=True)"
   ]
  },
  {
   "cell_type": "code",
   "execution_count": 18,
   "id": "baeeb3b0",
   "metadata": {},
   "outputs": [],
   "source": [
    "data.Votes.fillna(data['Votes'].median(),inplace=True)"
   ]
  },
  {
   "cell_type": "code",
   "execution_count": 19,
   "id": "7a8a0c12",
   "metadata": {},
   "outputs": [
    {
     "data": {
      "text/plain": [
       "Name       0\n",
       "Year       0\n",
       "Rating     0\n",
       "Runtime    0\n",
       "Votes      0\n",
       "dtype: int64"
      ]
     },
     "execution_count": 19,
     "metadata": {},
     "output_type": "execute_result"
    }
   ],
   "source": [
    "data.isnull().sum()"
   ]
  },
  {
   "cell_type": "markdown",
   "id": "02522cbc",
   "metadata": {},
   "source": [
    "## Duplicate values"
   ]
  },
  {
   "cell_type": "code",
   "execution_count": 20,
   "id": "d785ce1d",
   "metadata": {},
   "outputs": [
    {
     "data": {
      "text/plain": [
       "2"
      ]
     },
     "execution_count": 20,
     "metadata": {},
     "output_type": "execute_result"
    }
   ],
   "source": [
    "data.duplicated().sum()"
   ]
  },
  {
   "cell_type": "markdown",
   "id": "b1a58bc1",
   "metadata": {},
   "source": [
    "## Delete duplicate values"
   ]
  },
  {
   "cell_type": "code",
   "execution_count": 21,
   "id": "25d04813",
   "metadata": {},
   "outputs": [],
   "source": [
    "data.drop_duplicates(inplace=True)"
   ]
  },
  {
   "cell_type": "code",
   "execution_count": 22,
   "id": "31d0dd48",
   "metadata": {},
   "outputs": [
    {
     "data": {
      "text/plain": [
       "0"
      ]
     },
     "execution_count": 22,
     "metadata": {},
     "output_type": "execute_result"
    }
   ],
   "source": [
    "data.duplicated().sum()"
   ]
  },
  {
   "cell_type": "code",
   "execution_count": 23,
   "id": "dc1a2785",
   "metadata": {},
   "outputs": [
    {
     "data": {
      "text/html": [
       "<div>\n",
       "<style scoped>\n",
       "    .dataframe tbody tr th:only-of-type {\n",
       "        vertical-align: middle;\n",
       "    }\n",
       "\n",
       "    .dataframe tbody tr th {\n",
       "        vertical-align: top;\n",
       "    }\n",
       "\n",
       "    .dataframe thead th {\n",
       "        text-align: right;\n",
       "    }\n",
       "</style>\n",
       "<table border=\"1\" class=\"dataframe\">\n",
       "  <thead>\n",
       "    <tr style=\"text-align: right;\">\n",
       "      <th></th>\n",
       "      <th>Name</th>\n",
       "      <th>Year</th>\n",
       "      <th>Rating</th>\n",
       "      <th>Runtime</th>\n",
       "      <th>Votes</th>\n",
       "    </tr>\n",
       "  </thead>\n",
       "  <tbody>\n",
       "    <tr>\n",
       "      <th>0</th>\n",
       "      <td>Skater Girl</td>\n",
       "      <td>2021</td>\n",
       "      <td>6.600000</td>\n",
       "      <td>107.000000</td>\n",
       "      <td>1122.0</td>\n",
       "    </tr>\n",
       "    <tr>\n",
       "      <th>1</th>\n",
       "      <td>Radhe</td>\n",
       "      <td>2021</td>\n",
       "      <td>1.800000</td>\n",
       "      <td>135.000000</td>\n",
       "      <td>162353.0</td>\n",
       "    </tr>\n",
       "    <tr>\n",
       "      <th>2</th>\n",
       "      <td>Soorarai Pottru</td>\n",
       "      <td>2020</td>\n",
       "      <td>9.100000</td>\n",
       "      <td>153.000000</td>\n",
       "      <td>82987.0</td>\n",
       "    </tr>\n",
       "    <tr>\n",
       "      <th>3</th>\n",
       "      <td>Sandeep Aur Pinky Faraar</td>\n",
       "      <td>2021</td>\n",
       "      <td>6.300000</td>\n",
       "      <td>125.000000</td>\n",
       "      <td>6480.0</td>\n",
       "    </tr>\n",
       "    <tr>\n",
       "      <th>4</th>\n",
       "      <td>The White Tiger</td>\n",
       "      <td>2021</td>\n",
       "      <td>7.100000</td>\n",
       "      <td>125.000000</td>\n",
       "      <td>49865.0</td>\n",
       "    </tr>\n",
       "    <tr>\n",
       "      <th>...</th>\n",
       "      <td>...</td>\n",
       "      <td>...</td>\n",
       "      <td>...</td>\n",
       "      <td>...</td>\n",
       "      <td>...</td>\n",
       "    </tr>\n",
       "    <tr>\n",
       "      <th>942</th>\n",
       "      <td>Badmaash Bubbly</td>\n",
       "      <td>2019</td>\n",
       "      <td>6.208492</td>\n",
       "      <td>67.000000</td>\n",
       "      <td>498.0</td>\n",
       "    </tr>\n",
       "    <tr>\n",
       "      <th>944</th>\n",
       "      <td>Ae Kaash Ke Hum</td>\n",
       "      <td>2021</td>\n",
       "      <td>6.208492</td>\n",
       "      <td>116.870066</td>\n",
       "      <td>498.0</td>\n",
       "    </tr>\n",
       "    <tr>\n",
       "      <th>945</th>\n",
       "      <td>Miracle</td>\n",
       "      <td>2019</td>\n",
       "      <td>6.208492</td>\n",
       "      <td>116.870066</td>\n",
       "      <td>498.0</td>\n",
       "    </tr>\n",
       "    <tr>\n",
       "      <th>948</th>\n",
       "      <td>Umakant Pandey Purush Ya</td>\n",
       "      <td>2019</td>\n",
       "      <td>7.000000</td>\n",
       "      <td>120.000000</td>\n",
       "      <td>49.0</td>\n",
       "    </tr>\n",
       "    <tr>\n",
       "      <th>949</th>\n",
       "      <td>Ghost Story - An Abstract Film</td>\n",
       "      <td>2020</td>\n",
       "      <td>8.400000</td>\n",
       "      <td>116.870066</td>\n",
       "      <td>8.0</td>\n",
       "    </tr>\n",
       "  </tbody>\n",
       "</table>\n",
       "<p>838 rows × 5 columns</p>\n",
       "</div>"
      ],
      "text/plain": [
       "                               Name  Year    Rating     Runtime     Votes\n",
       "0                       Skater Girl  2021  6.600000  107.000000    1122.0\n",
       "1                             Radhe  2021  1.800000  135.000000  162353.0\n",
       "2                   Soorarai Pottru  2020  9.100000  153.000000   82987.0\n",
       "3          Sandeep Aur Pinky Faraar  2021  6.300000  125.000000    6480.0\n",
       "4                   The White Tiger  2021  7.100000  125.000000   49865.0\n",
       "..                              ...   ...       ...         ...       ...\n",
       "942                 Badmaash Bubbly  2019  6.208492   67.000000     498.0\n",
       "944                 Ae Kaash Ke Hum  2021  6.208492  116.870066     498.0\n",
       "945                         Miracle  2019  6.208492  116.870066     498.0\n",
       "948        Umakant Pandey Purush Ya  2019  7.000000  120.000000      49.0\n",
       "949  Ghost Story - An Abstract Film  2020  8.400000  116.870066       8.0\n",
       "\n",
       "[838 rows x 5 columns]"
      ]
     },
     "execution_count": 23,
     "metadata": {},
     "output_type": "execute_result"
    }
   ],
   "source": [
    "data"
   ]
  },
  {
   "cell_type": "markdown",
   "id": "a1846ffc",
   "metadata": {},
   "source": [
    "## Clean wrong values"
   ]
  },
  {
   "cell_type": "code",
   "execution_count": 24,
   "id": "6dc7d11b",
   "metadata": {},
   "outputs": [
    {
     "data": {
      "text/plain": [
       "2021    253\n",
       "2019    219\n",
       "2020    168\n",
       "2018    164\n",
       "2022     22\n",
       "(I        3\n",
       "(III      3\n",
       "(V        2\n",
       "(IV       2\n",
       "(II       2\n",
       "Name: Year, dtype: int64"
      ]
     },
     "execution_count": 24,
     "metadata": {},
     "output_type": "execute_result"
    }
   ],
   "source": [
    "data['Year'].value_counts()"
   ]
  },
  {
   "cell_type": "code",
   "execution_count": 25,
   "id": "3728a43e",
   "metadata": {},
   "outputs": [],
   "source": [
    "data.drop(labels=[547 ,810 ,592,760,825,782,828,673,682,691,780,909], axis=0,inplace=True)\n",
    "# 547 ,810 ,592,760,825,782,828,673,682,691,780,909,"
   ]
  },
  {
   "cell_type": "code",
   "execution_count": 26,
   "id": "2e13940b",
   "metadata": {},
   "outputs": [
    {
     "data": {
      "text/plain": [
       "2021    253\n",
       "2019    219\n",
       "2020    168\n",
       "2018    164\n",
       "2022     22\n",
       "Name: Year, dtype: int64"
      ]
     },
     "execution_count": 26,
     "metadata": {},
     "output_type": "execute_result"
    }
   ],
   "source": [
    "data['Year'].value_counts()"
   ]
  },
  {
   "cell_type": "code",
   "execution_count": 27,
   "id": "5be47dcd",
   "metadata": {},
   "outputs": [
    {
     "data": {
      "text/plain": [
       "(826, 5)"
      ]
     },
     "execution_count": 27,
     "metadata": {},
     "output_type": "execute_result"
    }
   ],
   "source": [
    "data.shape"
   ]
  },
  {
   "cell_type": "markdown",
   "id": "9902c8fb",
   "metadata": {},
   "source": [
    "## Check frequency of unique data"
   ]
  },
  {
   "cell_type": "code",
   "execution_count": 28,
   "id": "d9cba4d7",
   "metadata": {},
   "outputs": [
    {
     "data": {
      "text/plain": [
       "Black Rose                        2\n",
       "Pari                              2\n",
       "Skater Girl                       1\n",
       "Nirdosh                           1\n",
       "Halkaa                            1\n",
       "                                 ..\n",
       "Barot House                       1\n",
       "Saand Ki Aankh                    1\n",
       "Satyameva Jayate 2                1\n",
       "Beautiful                         1\n",
       "Ghost Story - An Abstract Film    1\n",
       "Name: Name, Length: 824, dtype: int64"
      ]
     },
     "execution_count": 28,
     "metadata": {},
     "output_type": "execute_result"
    }
   ],
   "source": [
    "data.Name.value_counts()"
   ]
  },
  {
   "cell_type": "markdown",
   "id": "237daf90",
   "metadata": {},
   "source": [
    "## Unique values in the data"
   ]
  },
  {
   "cell_type": "code",
   "execution_count": 29,
   "id": "e265c6f4",
   "metadata": {},
   "outputs": [
    {
     "data": {
      "text/plain": [
       "array([6.6      , 1.8      , 9.1      , 6.3      , 7.1      , 8.3      ,\n",
       "       6.2084922, 4.1      , 7.6      , 3.5      , 8.2      , 7.       ,\n",
       "       6.7      , 7.4      , 7.5      , 6.       , 1.9      , 4.4      ,\n",
       "       6.1      , 6.9      , 8.       , 7.8      , 7.3      , 7.7      ,\n",
       "       5.4      , 4.2      , 7.9      , 4.3      , 8.1      , 6.5      ,\n",
       "       2.       , 6.2      , 8.5      , 4.9      , 4.7      , 1.1      ,\n",
       "       7.2      , 5.3      , 6.8      , 6.4      , 5.9      , 5.7      ,\n",
       "       5.6      , 2.2      , 4.6      , 2.9      , 4.8      , 2.4      ,\n",
       "       3.       , 2.1      , 3.6      , 3.8      , 5.8      , 5.       ,\n",
       "       3.1      , 3.2      , 9.3      , 5.2      , 4.5      , 3.3      ,\n",
       "       3.4      , 5.5      , 5.1      , 2.8      , 9.       , 3.9      ,\n",
       "       2.7      , 9.4      , 8.7      , 2.3      , 2.5      , 3.7      ,\n",
       "       8.6      , 4.       , 1.6      , 8.4      , 9.7      , 8.8      ,\n",
       "       8.9      , 2.6      , 9.6      ])"
      ]
     },
     "execution_count": 29,
     "metadata": {},
     "output_type": "execute_result"
    }
   ],
   "source": [
    "# data.Rating.value_counts()\n",
    "data.Rating.unique()"
   ]
  },
  {
   "cell_type": "markdown",
   "id": "2394eefc",
   "metadata": {},
   "source": [
    "## Cleaning data "
   ]
  },
  {
   "cell_type": "code",
   "execution_count": 30,
   "id": "a1c0bec3",
   "metadata": {},
   "outputs": [],
   "source": [
    "data[\"Rating\"]=data[\"Rating\"].apply(lambda x:round(x,2))\n",
    "#                      round(float_num4, 2)"
   ]
  },
  {
   "cell_type": "code",
   "execution_count": 31,
   "id": "e233aa91",
   "metadata": {},
   "outputs": [
    {
     "data": {
      "text/plain": [
       "array([6.6 , 1.8 , 9.1 , 6.3 , 7.1 , 8.3 , 6.21, 4.1 , 7.6 , 3.5 , 8.2 ,\n",
       "       7.  , 6.7 , 7.4 , 7.5 , 6.  , 1.9 , 4.4 , 6.1 , 6.9 , 8.  , 7.8 ,\n",
       "       7.3 , 7.7 , 5.4 , 4.2 , 7.9 , 4.3 , 8.1 , 6.5 , 2.  , 6.2 , 8.5 ,\n",
       "       4.9 , 4.7 , 1.1 , 7.2 , 5.3 , 6.8 , 6.4 , 5.9 , 5.7 , 5.6 , 2.2 ,\n",
       "       4.6 , 2.9 , 4.8 , 2.4 , 3.  , 2.1 , 3.6 , 3.8 , 5.8 , 5.  , 3.1 ,\n",
       "       3.2 , 9.3 , 5.2 , 4.5 , 3.3 , 3.4 , 5.5 , 5.1 , 2.8 , 9.  , 3.9 ,\n",
       "       2.7 , 9.4 , 8.7 , 2.3 , 2.5 , 3.7 , 8.6 , 4.  , 1.6 , 8.4 , 9.7 ,\n",
       "       8.8 , 8.9 , 2.6 , 9.6 ])"
      ]
     },
     "execution_count": 31,
     "metadata": {},
     "output_type": "execute_result"
    }
   ],
   "source": [
    "data.Rating.unique()"
   ]
  },
  {
   "cell_type": "code",
   "execution_count": 32,
   "id": "325ffa6a",
   "metadata": {},
   "outputs": [
    {
     "data": {
      "text/plain": [
       "array([107.        , 135.        , 153.        , 125.        ,\n",
       "       104.        , 139.        , 123.        , 141.        ,\n",
       "       136.        , 114.        , 150.        , 142.        ,\n",
       "       128.        , 175.        , 101.        ,  94.        ,\n",
       "       116.87006579, 160.        , 120.        , 115.        ,\n",
       "       138.        , 134.        , 130.        , 154.        ,\n",
       "       118.        , 149.        ,  99.        , 164.        ,\n",
       "       140.        , 143.        , 109.        , 124.        ,\n",
       "       173.        ,  52.        , 113.        , 106.        ,\n",
       "       108.        ,  90.        , 133.        , 146.        ,\n",
       "       145.        , 176.        , 171.        ,  98.        ,\n",
       "       126.        , 155.        , 132.        , 117.        ,\n",
       "       157.        , 116.        , 148.        , 102.        ,\n",
       "       144.        ,  81.        , 103.        , 151.        ,\n",
       "       165.        ,  95.        , 152.        , 137.        ,\n",
       "       110.        , 119.        , 112.        ,  80.        ,\n",
       "       170.        , 111.        , 158.        , 122.        ,\n",
       "       147.        , 156.        , 166.        , 129.        ,\n",
       "        91.        , 131.        ,  97.        , 121.        ,\n",
       "       100.        ,  56.        , 159.        , 161.        ,\n",
       "        77.        , 162.        , 105.        ,  58.        ,\n",
       "        85.        ,  50.        ,  68.        ,  89.        ,\n",
       "       127.        ,  92.        ,  82.        ,  93.        ,\n",
       "        65.        ,  45.        , 169.        ,  96.        ,\n",
       "        84.        ,  60.        ,  79.        ,  57.        ,\n",
       "        72.        ,  48.        ,  66.        ,  71.        ,\n",
       "        69.        ,  75.        ,  88.        ,  47.        ,\n",
       "        63.        ,  70.        ,  62.        , 261.        ,\n",
       "        83.        ,  67.        ,  59.        ,  78.        ,\n",
       "        74.        ,  61.        ])"
      ]
     },
     "execution_count": 32,
     "metadata": {},
     "output_type": "execute_result"
    }
   ],
   "source": [
    "data.Runtime.unique()"
   ]
  },
  {
   "cell_type": "code",
   "execution_count": 33,
   "id": "f7f5b9fc",
   "metadata": {},
   "outputs": [],
   "source": [
    "data[\"Runtime\"]=data[\"Runtime\"].apply(lambda x:round(x,0))\n",
    "#                      round(float_num4, 2)"
   ]
  },
  {
   "cell_type": "code",
   "execution_count": 34,
   "id": "eb1a3354",
   "metadata": {},
   "outputs": [
    {
     "data": {
      "text/plain": [
       "array([107., 135., 153., 125., 104., 139., 123., 141., 136., 114., 150.,\n",
       "       142., 128., 175., 101.,  94., 117., 160., 120., 115., 138., 134.,\n",
       "       130., 154., 118., 149.,  99., 164., 140., 143., 109., 124., 173.,\n",
       "        52., 113., 106., 108.,  90., 133., 146., 145., 176., 171.,  98.,\n",
       "       126., 155., 132., 157., 116., 148., 102., 144.,  81., 103., 151.,\n",
       "       165.,  95., 152., 137., 110., 119., 112.,  80., 170., 111., 158.,\n",
       "       122., 147., 156., 166., 129.,  91., 131.,  97., 121., 100.,  56.,\n",
       "       159., 161.,  77., 162., 105.,  58.,  85.,  50.,  68.,  89., 127.,\n",
       "        92.,  82.,  93.,  65.,  45., 169.,  96.,  84.,  60.,  79.,  57.,\n",
       "        72.,  48.,  66.,  71.,  69.,  75.,  88.,  47.,  63.,  70.,  62.,\n",
       "       261.,  83.,  67.,  59.,  78.,  74.,  61.])"
      ]
     },
     "execution_count": 34,
     "metadata": {},
     "output_type": "execute_result"
    }
   ],
   "source": [
    "data.Runtime.unique()"
   ]
  },
  {
   "cell_type": "code",
   "execution_count": 35,
   "id": "4910ded0",
   "metadata": {},
   "outputs": [
    {
     "data": {
      "text/plain": [
       "498.0      250\n",
       "7.0         11\n",
       "20.0         9\n",
       "13.0         8\n",
       "8.0          8\n",
       "          ... \n",
       "3929.0       1\n",
       "3036.0       1\n",
       "11092.0      1\n",
       "1570.0       1\n",
       "49.0         1\n",
       "Name: Votes, Length: 433, dtype: int64"
      ]
     },
     "execution_count": 35,
     "metadata": {},
     "output_type": "execute_result"
    }
   ],
   "source": [
    "data.Votes.value_counts()"
   ]
  },
  {
   "cell_type": "code",
   "execution_count": 36,
   "id": "61e125e4",
   "metadata": {},
   "outputs": [
    {
     "data": {
      "text/html": [
       "<div>\n",
       "<style scoped>\n",
       "    .dataframe tbody tr th:only-of-type {\n",
       "        vertical-align: middle;\n",
       "    }\n",
       "\n",
       "    .dataframe tbody tr th {\n",
       "        vertical-align: top;\n",
       "    }\n",
       "\n",
       "    .dataframe thead th {\n",
       "        text-align: right;\n",
       "    }\n",
       "</style>\n",
       "<table border=\"1\" class=\"dataframe\">\n",
       "  <thead>\n",
       "    <tr style=\"text-align: right;\">\n",
       "      <th></th>\n",
       "      <th>Name</th>\n",
       "      <th>Year</th>\n",
       "      <th>Rating</th>\n",
       "      <th>Runtime</th>\n",
       "      <th>Votes</th>\n",
       "    </tr>\n",
       "  </thead>\n",
       "  <tbody>\n",
       "    <tr>\n",
       "      <th>0</th>\n",
       "      <td>Skater Girl</td>\n",
       "      <td>2021</td>\n",
       "      <td>6.60</td>\n",
       "      <td>107.0</td>\n",
       "      <td>1122.0</td>\n",
       "    </tr>\n",
       "    <tr>\n",
       "      <th>1</th>\n",
       "      <td>Radhe</td>\n",
       "      <td>2021</td>\n",
       "      <td>1.80</td>\n",
       "      <td>135.0</td>\n",
       "      <td>162353.0</td>\n",
       "    </tr>\n",
       "    <tr>\n",
       "      <th>2</th>\n",
       "      <td>Soorarai Pottru</td>\n",
       "      <td>2020</td>\n",
       "      <td>9.10</td>\n",
       "      <td>153.0</td>\n",
       "      <td>82987.0</td>\n",
       "    </tr>\n",
       "    <tr>\n",
       "      <th>3</th>\n",
       "      <td>Sandeep Aur Pinky Faraar</td>\n",
       "      <td>2021</td>\n",
       "      <td>6.30</td>\n",
       "      <td>125.0</td>\n",
       "      <td>6480.0</td>\n",
       "    </tr>\n",
       "    <tr>\n",
       "      <th>4</th>\n",
       "      <td>The White Tiger</td>\n",
       "      <td>2021</td>\n",
       "      <td>7.10</td>\n",
       "      <td>125.0</td>\n",
       "      <td>49865.0</td>\n",
       "    </tr>\n",
       "    <tr>\n",
       "      <th>...</th>\n",
       "      <td>...</td>\n",
       "      <td>...</td>\n",
       "      <td>...</td>\n",
       "      <td>...</td>\n",
       "      <td>...</td>\n",
       "    </tr>\n",
       "    <tr>\n",
       "      <th>942</th>\n",
       "      <td>Badmaash Bubbly</td>\n",
       "      <td>2019</td>\n",
       "      <td>6.21</td>\n",
       "      <td>67.0</td>\n",
       "      <td>498.0</td>\n",
       "    </tr>\n",
       "    <tr>\n",
       "      <th>944</th>\n",
       "      <td>Ae Kaash Ke Hum</td>\n",
       "      <td>2021</td>\n",
       "      <td>6.21</td>\n",
       "      <td>117.0</td>\n",
       "      <td>498.0</td>\n",
       "    </tr>\n",
       "    <tr>\n",
       "      <th>945</th>\n",
       "      <td>Miracle</td>\n",
       "      <td>2019</td>\n",
       "      <td>6.21</td>\n",
       "      <td>117.0</td>\n",
       "      <td>498.0</td>\n",
       "    </tr>\n",
       "    <tr>\n",
       "      <th>948</th>\n",
       "      <td>Umakant Pandey Purush Ya</td>\n",
       "      <td>2019</td>\n",
       "      <td>7.00</td>\n",
       "      <td>120.0</td>\n",
       "      <td>49.0</td>\n",
       "    </tr>\n",
       "    <tr>\n",
       "      <th>949</th>\n",
       "      <td>Ghost Story - An Abstract Film</td>\n",
       "      <td>2020</td>\n",
       "      <td>8.40</td>\n",
       "      <td>117.0</td>\n",
       "      <td>8.0</td>\n",
       "    </tr>\n",
       "  </tbody>\n",
       "</table>\n",
       "<p>826 rows × 5 columns</p>\n",
       "</div>"
      ],
      "text/plain": [
       "                               Name  Year  Rating  Runtime     Votes\n",
       "0                       Skater Girl  2021    6.60    107.0    1122.0\n",
       "1                             Radhe  2021    1.80    135.0  162353.0\n",
       "2                   Soorarai Pottru  2020    9.10    153.0   82987.0\n",
       "3          Sandeep Aur Pinky Faraar  2021    6.30    125.0    6480.0\n",
       "4                   The White Tiger  2021    7.10    125.0   49865.0\n",
       "..                              ...   ...     ...      ...       ...\n",
       "942                 Badmaash Bubbly  2019    6.21     67.0     498.0\n",
       "944                 Ae Kaash Ke Hum  2021    6.21    117.0     498.0\n",
       "945                         Miracle  2019    6.21    117.0     498.0\n",
       "948        Umakant Pandey Purush Ya  2019    7.00    120.0      49.0\n",
       "949  Ghost Story - An Abstract Film  2020    8.40    117.0       8.0\n",
       "\n",
       "[826 rows x 5 columns]"
      ]
     },
     "execution_count": 36,
     "metadata": {},
     "output_type": "execute_result"
    }
   ],
   "source": [
    "data"
   ]
  },
  {
   "cell_type": "code",
   "execution_count": 37,
   "id": "beee5dfe",
   "metadata": {},
   "outputs": [
    {
     "data": {
      "text/html": [
       "<div>\n",
       "<style scoped>\n",
       "    .dataframe tbody tr th:only-of-type {\n",
       "        vertical-align: middle;\n",
       "    }\n",
       "\n",
       "    .dataframe tbody tr th {\n",
       "        vertical-align: top;\n",
       "    }\n",
       "\n",
       "    .dataframe thead th {\n",
       "        text-align: right;\n",
       "    }\n",
       "</style>\n",
       "<table border=\"1\" class=\"dataframe\">\n",
       "  <thead>\n",
       "    <tr style=\"text-align: right;\">\n",
       "      <th></th>\n",
       "      <th>Rating</th>\n",
       "      <th>Runtime</th>\n",
       "      <th>Votes</th>\n",
       "    </tr>\n",
       "  </thead>\n",
       "  <tbody>\n",
       "    <tr>\n",
       "      <th>Rating</th>\n",
       "      <td>1.000000</td>\n",
       "      <td>-0.127560</td>\n",
       "      <td>-0.029942</td>\n",
       "    </tr>\n",
       "    <tr>\n",
       "      <th>Runtime</th>\n",
       "      <td>-0.127560</td>\n",
       "      <td>1.000000</td>\n",
       "      <td>0.235338</td>\n",
       "    </tr>\n",
       "    <tr>\n",
       "      <th>Votes</th>\n",
       "      <td>-0.029942</td>\n",
       "      <td>0.235338</td>\n",
       "      <td>1.000000</td>\n",
       "    </tr>\n",
       "  </tbody>\n",
       "</table>\n",
       "</div>"
      ],
      "text/plain": [
       "           Rating   Runtime     Votes\n",
       "Rating   1.000000 -0.127560 -0.029942\n",
       "Runtime -0.127560  1.000000  0.235338\n",
       "Votes   -0.029942  0.235338  1.000000"
      ]
     },
     "execution_count": 37,
     "metadata": {},
     "output_type": "execute_result"
    }
   ],
   "source": [
    "data.corr()"
   ]
  },
  {
   "cell_type": "code",
   "execution_count": 38,
   "id": "02c1a37b",
   "metadata": {},
   "outputs": [
    {
     "data": {
      "text/plain": [
       "<AxesSubplot:>"
      ]
     },
     "execution_count": 38,
     "metadata": {},
     "output_type": "execute_result"
    },
    {
     "data": {
      "image/png": "[encoded data removed]",
      "text/plain": [
       "<Figure size 432x288 with 2 Axes>"
      ]
     },
     "metadata": {
      "needs_background": "light"
     },
     "output_type": "display_data"
    }
   ],
   "source": [
    "sns.heatmap(data.corr(),annot=True)"
   ]
  },
  {
   "cell_type": "code",
   "execution_count": 39,
   "id": "70f7b126",
   "metadata": {},
   "outputs": [
    {
     "data": {
      "image/png": "[encoded data removed]",
      "text/plain": [
       "<Figure size 432x288 with 1 Axes>"
      ]
     },
     "metadata": {
      "needs_background": "light"
     },
     "output_type": "display_data"
    }
   ],
   "source": [
    "plt.boxplot(data['Votes'])\n",
    "plt.show()\n",
    "\n",
    "# data[[\"Votes\"]].boxplot()\n"
   ]
  },
  {
   "cell_type": "code",
   "execution_count": 40,
   "id": "172d9125",
   "metadata": {},
   "outputs": [
    {
     "data": {
      "image/png": "[encoded data removed]",
      "text/plain": [
       "<Figure size 432x288 with 1 Axes>"
      ]
     },
     "metadata": {
      "needs_background": "light"
     },
     "output_type": "display_data"
    }
   ],
   "source": [
    "# data[[\"Runtime\"]].boxplot()\n",
    "plt.boxplot(data['Runtime'])\n",
    "plt.show()"
   ]
  },
  {
   "cell_type": "code",
   "execution_count": 51,
   "id": "96c69357",
   "metadata": {},
   "outputs": [
    {
     "data": {
      "image/png": "[encoded data removed]",
      "text/plain": [
       "<Figure size 432x288 with 1 Axes>"
      ]
     },
     "metadata": {
      "needs_background": "light"
     },
     "output_type": "display_data"
    }
   ],
   "source": [
    "# data[[\"Rating\"]].boxplot()\n",
    "plt.boxplot(data['Rating'])\n",
    "plt.show()"
   ]
  },
  {
   "cell_type": "code",
   "execution_count": 42,
   "id": "318d3a67",
   "metadata": {},
   "outputs": [
    {
     "data": {
      "text/plain": [
       "<seaborn.axisgrid.PairGrid at 0x23b015c84c0>"
      ]
     },
     "execution_count": 42,
     "metadata": {},
     "output_type": "execute_result"
    },
    {
     "data": {
      "image/png": "[encoded data removed]",
      "text/plain": [
       "<Figure size 540x540 with 12 Axes>"
      ]
     },
     "metadata": {
      "needs_background": "light"
     },
     "output_type": "display_data"
    }
   ],
   "source": [
    "sns.pairplot(data)"
   ]
  },
  {
   "cell_type": "code",
   "execution_count": 90,
   "id": "ddd8e447",
   "metadata": {},
   "outputs": [
    {
     "data": {
      "text/plain": [
       "Name                           Rating\n",
       "#Homecoming                    6.21      1\n",
       "#Yaaram                        4.40      1\n",
       "'83                            6.21      1\n",
       "102 Not Out                    7.40      1\n",
       "12 O'Clock                     4.40      1\n",
       "                                        ..\n",
       "Yug the law of karma           7.70      1\n",
       "Zamaanat: And Justice for All  6.21      1\n",
       "Zero                           5.40      1\n",
       "Zindagi Tumse                  6.00      1\n",
       "Zoo                            5.70      1\n",
       "Length: 826, dtype: int64"
      ]
     },
     "execution_count": 90,
     "metadata": {},
     "output_type": "execute_result"
    }
   ],
   "source": [
    "data.groupby('Name')[['Rating']].value_counts()\n"
   ]
  },
  {
   "cell_type": "code",
   "execution_count": 44,
   "id": "d62ec6b4",
   "metadata": {},
   "outputs": [],
   "source": [
    "x=data.Name.value_counts()"
   ]
  },
  {
   "cell_type": "code",
   "execution_count": 45,
   "id": "bd7cd28d",
   "metadata": {},
   "outputs": [
    {
     "name": "stderr",
     "output_type": "stream",
     "text": [
      "C:\\Users\\dell\\AppData\\Local\\Temp\\ipykernel_2512\\1188251951.py:1: FutureWarning: Dropping of nuisance columns in DataFrame reductions (with 'numeric_only=None') is deprecated; in a future version this will raise TypeError.  Select only valid columns before calling the reduction.\n",
      "  data.skew()\n"
     ]
    },
    {
     "data": {
      "text/plain": [
       "Year      -0.032665\n",
       "Rating    -0.532161\n",
       "Runtime   -0.039355\n",
       "Votes      8.020195\n",
       "dtype: float64"
      ]
     },
     "execution_count": 45,
     "metadata": {},
     "output_type": "execute_result"
    }
   ],
   "source": [
    "data.skew()"
   ]
  },
  {
   "cell_type": "code",
   "execution_count": 55,
   "id": "196bf22e",
   "metadata": {},
   "outputs": [],
   "source": [
    "data1=data"
   ]
  },
  {
   "cell_type": "code",
   "execution_count": 69,
   "id": "ccd49df8",
   "metadata": {},
   "outputs": [
    {
     "data": {
      "text/plain": [
       "max    9.7\n",
       "min    1.8\n",
       "Name: Rating, dtype: float64"
      ]
     },
     "execution_count": 69,
     "metadata": {},
     "output_type": "execute_result"
    }
   ],
   "source": [
    "data1[data1['Year']=='2021']['Rating'].agg(['max','min'])"
   ]
  },
  {
   "cell_type": "code",
   "execution_count": 91,
   "id": "8092475d",
   "metadata": {},
   "outputs": [
    {
     "data": {
      "text/plain": [
       "(array([0, 1, 2, 3, 4]),\n",
       " [Text(0, 0, '2021'),\n",
       "  Text(1, 0, '2020'),\n",
       "  Text(2, 0, '2018'),\n",
       "  Text(3, 0, '2019'),\n",
       "  Text(4, 0, '2022')])"
      ]
     },
     "execution_count": 91,
     "metadata": {},
     "output_type": "execute_result"
    },
    {
     "data": {
      "image/png": "[encoded data removed]",
      "text/plain": [
       "<Figure size 360x288 with 1 Axes>"
      ]
     },
     "metadata": {
      "needs_background": "light"
     },
     "output_type": "display_data"
    }
   ],
   "source": [
    "# year frequency \n",
    "plt.figure(figsize=(5,4))\n",
    "sns.countplot(x='Year', data=data1)\n",
    "plt.xticks(rotation=90)"
   ]
  },
  {
   "cell_type": "code",
   "execution_count": 72,
   "id": "cf5850c5",
   "metadata": {},
   "outputs": [
    {
     "data": {
      "text/html": [
       "<div>\n",
       "<style scoped>\n",
       "    .dataframe tbody tr th:only-of-type {\n",
       "        vertical-align: middle;\n",
       "    }\n",
       "\n",
       "    .dataframe tbody tr th {\n",
       "        vertical-align: top;\n",
       "    }\n",
       "\n",
       "    .dataframe thead th {\n",
       "        text-align: right;\n",
       "    }\n",
       "</style>\n",
       "<table border=\"1\" class=\"dataframe\">\n",
       "  <thead>\n",
       "    <tr style=\"text-align: right;\">\n",
       "      <th></th>\n",
       "      <th>Name</th>\n",
       "      <th>Rating</th>\n",
       "      <th>Runtime</th>\n",
       "    </tr>\n",
       "  </thead>\n",
       "  <tbody>\n",
       "    <tr>\n",
       "      <th>121</th>\n",
       "      <td>Ganapath</td>\n",
       "      <td>6.21</td>\n",
       "      <td>117.0</td>\n",
       "    </tr>\n",
       "    <tr>\n",
       "      <th>166</th>\n",
       "      <td>Bachchan Pandey</td>\n",
       "      <td>6.21</td>\n",
       "      <td>117.0</td>\n",
       "    </tr>\n",
       "    <tr>\n",
       "      <th>175</th>\n",
       "      <td>Salaar</td>\n",
       "      <td>6.21</td>\n",
       "      <td>117.0</td>\n",
       "    </tr>\n",
       "    <tr>\n",
       "      <th>218</th>\n",
       "      <td>Fighter</td>\n",
       "      <td>6.21</td>\n",
       "      <td>117.0</td>\n",
       "    </tr>\n",
       "    <tr>\n",
       "      <th>239</th>\n",
       "      <td>Animal</td>\n",
       "      <td>6.21</td>\n",
       "      <td>117.0</td>\n",
       "    </tr>\n",
       "    <tr>\n",
       "      <th>252</th>\n",
       "      <td>Cirkus</td>\n",
       "      <td>6.21</td>\n",
       "      <td>112.0</td>\n",
       "    </tr>\n",
       "    <tr>\n",
       "      <th>272</th>\n",
       "      <td>The Intern</td>\n",
       "      <td>6.21</td>\n",
       "      <td>117.0</td>\n",
       "    </tr>\n",
       "    <tr>\n",
       "      <th>283</th>\n",
       "      <td>Ponniyin Selvan</td>\n",
       "      <td>6.21</td>\n",
       "      <td>117.0</td>\n",
       "    </tr>\n",
       "    <tr>\n",
       "      <th>296</th>\n",
       "      <td>Adipurush</td>\n",
       "      <td>6.21</td>\n",
       "      <td>117.0</td>\n",
       "    </tr>\n",
       "    <tr>\n",
       "      <th>387</th>\n",
       "      <td>Ek Villain Returns</td>\n",
       "      <td>6.21</td>\n",
       "      <td>117.0</td>\n",
       "    </tr>\n",
       "    <tr>\n",
       "      <th>402</th>\n",
       "      <td>Bhediya</td>\n",
       "      <td>6.21</td>\n",
       "      <td>117.0</td>\n",
       "    </tr>\n",
       "    <tr>\n",
       "      <th>438</th>\n",
       "      <td>Goodbye</td>\n",
       "      <td>6.21</td>\n",
       "      <td>117.0</td>\n",
       "    </tr>\n",
       "    <tr>\n",
       "      <th>454</th>\n",
       "      <td>Yudhra</td>\n",
       "      <td>6.21</td>\n",
       "      <td>117.0</td>\n",
       "    </tr>\n",
       "    <tr>\n",
       "      <th>488</th>\n",
       "      <td>Mayday</td>\n",
       "      <td>6.21</td>\n",
       "      <td>141.0</td>\n",
       "    </tr>\n",
       "    <tr>\n",
       "      <th>541</th>\n",
       "      <td>Untitled Luv Ranjan Film</td>\n",
       "      <td>6.21</td>\n",
       "      <td>117.0</td>\n",
       "    </tr>\n",
       "    <tr>\n",
       "      <th>632</th>\n",
       "      <td>Ghubar</td>\n",
       "      <td>6.21</td>\n",
       "      <td>117.0</td>\n",
       "    </tr>\n",
       "    <tr>\n",
       "      <th>685</th>\n",
       "      <td>Tsunami</td>\n",
       "      <td>6.21</td>\n",
       "      <td>117.0</td>\n",
       "    </tr>\n",
       "    <tr>\n",
       "      <th>702</th>\n",
       "      <td>Baba Teerthnath</td>\n",
       "      <td>6.21</td>\n",
       "      <td>117.0</td>\n",
       "    </tr>\n",
       "    <tr>\n",
       "      <th>777</th>\n",
       "      <td>Timir</td>\n",
       "      <td>6.21</td>\n",
       "      <td>100.0</td>\n",
       "    </tr>\n",
       "    <tr>\n",
       "      <th>808</th>\n",
       "      <td>Tara vs Bilal</td>\n",
       "      <td>6.21</td>\n",
       "      <td>117.0</td>\n",
       "    </tr>\n",
       "    <tr>\n",
       "      <th>815</th>\n",
       "      <td>Guthlee</td>\n",
       "      <td>6.21</td>\n",
       "      <td>117.0</td>\n",
       "    </tr>\n",
       "    <tr>\n",
       "      <th>843</th>\n",
       "      <td>Chaalbaaz in London</td>\n",
       "      <td>6.21</td>\n",
       "      <td>117.0</td>\n",
       "    </tr>\n",
       "  </tbody>\n",
       "</table>\n",
       "</div>"
      ],
      "text/plain": [
       "                         Name  Rating  Runtime\n",
       "121                  Ganapath    6.21    117.0\n",
       "166           Bachchan Pandey    6.21    117.0\n",
       "175                    Salaar    6.21    117.0\n",
       "218                   Fighter    6.21    117.0\n",
       "239                    Animal    6.21    117.0\n",
       "252                    Cirkus    6.21    112.0\n",
       "272                The Intern    6.21    117.0\n",
       "283           Ponniyin Selvan    6.21    117.0\n",
       "296                 Adipurush    6.21    117.0\n",
       "387        Ek Villain Returns    6.21    117.0\n",
       "402                   Bhediya    6.21    117.0\n",
       "438                   Goodbye    6.21    117.0\n",
       "454                    Yudhra    6.21    117.0\n",
       "488                    Mayday    6.21    141.0\n",
       "541  Untitled Luv Ranjan Film    6.21    117.0\n",
       "632                    Ghubar    6.21    117.0\n",
       "685                   Tsunami    6.21    117.0\n",
       "702           Baba Teerthnath    6.21    117.0\n",
       "777                     Timir    6.21    100.0\n",
       "808             Tara vs Bilal    6.21    117.0\n",
       "815                   Guthlee    6.21    117.0\n",
       "843       Chaalbaaz in London    6.21    117.0"
      ]
     },
     "execution_count": 72,
     "metadata": {},
     "output_type": "execute_result"
    }
   ],
   "source": [
    "f=data1[data1['Year']=='2022']\n",
    "f[['Name','Rating','Runtime']]"
   ]
  },
  {
   "cell_type": "code",
   "execution_count": 87,
   "id": "85210815",
   "metadata": {},
   "outputs": [
    {
     "data": {
      "text/plain": [
       "<AxesSubplot:>"
      ]
     },
     "execution_count": 87,
     "metadata": {},
     "output_type": "execute_result"
    },
    {
     "data": {
      "image/png": "[encoded data removed]",
      "text/plain": [
       "<Figure size 432x288 with 1 Axes>"
      ]
     },
     "metadata": {
      "needs_background": "light"
     },
     "output_type": "display_data"
    }
   ],
   "source": [
    "f=data1[data1['Year']=='2022']\n",
    "f[['Name','Rating','Runtime']].plot()"
   ]
  },
  {
   "cell_type": "code",
   "execution_count": 73,
   "id": "9caba6cf",
   "metadata": {},
   "outputs": [
    {
     "data": {
      "text/html": [
       "<div>\n",
       "<style scoped>\n",
       "    .dataframe tbody tr th:only-of-type {\n",
       "        vertical-align: middle;\n",
       "    }\n",
       "\n",
       "    .dataframe tbody tr th {\n",
       "        vertical-align: top;\n",
       "    }\n",
       "\n",
       "    .dataframe thead th {\n",
       "        text-align: right;\n",
       "    }\n",
       "</style>\n",
       "<table border=\"1\" class=\"dataframe\">\n",
       "  <thead>\n",
       "    <tr style=\"text-align: right;\">\n",
       "      <th></th>\n",
       "      <th>Name</th>\n",
       "      <th>Rating</th>\n",
       "      <th>Runtime</th>\n",
       "    </tr>\n",
       "  </thead>\n",
       "  <tbody>\n",
       "    <tr>\n",
       "      <th>0</th>\n",
       "      <td>Skater Girl</td>\n",
       "      <td>6.60</td>\n",
       "      <td>107.0</td>\n",
       "    </tr>\n",
       "    <tr>\n",
       "      <th>1</th>\n",
       "      <td>Radhe</td>\n",
       "      <td>1.80</td>\n",
       "      <td>135.0</td>\n",
       "    </tr>\n",
       "    <tr>\n",
       "      <th>3</th>\n",
       "      <td>Sandeep Aur Pinky Faraar</td>\n",
       "      <td>6.30</td>\n",
       "      <td>125.0</td>\n",
       "    </tr>\n",
       "    <tr>\n",
       "      <th>4</th>\n",
       "      <td>The White Tiger</td>\n",
       "      <td>7.10</td>\n",
       "      <td>125.0</td>\n",
       "    </tr>\n",
       "    <tr>\n",
       "      <th>6</th>\n",
       "      <td>Haseen Dillruba</td>\n",
       "      <td>6.21</td>\n",
       "      <td>135.0</td>\n",
       "    </tr>\n",
       "    <tr>\n",
       "      <th>...</th>\n",
       "      <td>...</td>\n",
       "      <td>...</td>\n",
       "      <td>...</td>\n",
       "    </tr>\n",
       "    <tr>\n",
       "      <th>913</th>\n",
       "      <td>Premaatur</td>\n",
       "      <td>6.21</td>\n",
       "      <td>109.0</td>\n",
       "    </tr>\n",
       "    <tr>\n",
       "      <th>920</th>\n",
       "      <td>Black Coffee</td>\n",
       "      <td>6.21</td>\n",
       "      <td>117.0</td>\n",
       "    </tr>\n",
       "    <tr>\n",
       "      <th>922</th>\n",
       "      <td>The Closed Door</td>\n",
       "      <td>6.21</td>\n",
       "      <td>50.0</td>\n",
       "    </tr>\n",
       "    <tr>\n",
       "      <th>927</th>\n",
       "      <td>Ek Nashebaaz</td>\n",
       "      <td>6.21</td>\n",
       "      <td>117.0</td>\n",
       "    </tr>\n",
       "    <tr>\n",
       "      <th>944</th>\n",
       "      <td>Ae Kaash Ke Hum</td>\n",
       "      <td>6.21</td>\n",
       "      <td>117.0</td>\n",
       "    </tr>\n",
       "  </tbody>\n",
       "</table>\n",
       "<p>253 rows × 3 columns</p>\n",
       "</div>"
      ],
      "text/plain": [
       "                         Name  Rating  Runtime\n",
       "0                 Skater Girl    6.60    107.0\n",
       "1                       Radhe    1.80    135.0\n",
       "3    Sandeep Aur Pinky Faraar    6.30    125.0\n",
       "4             The White Tiger    7.10    125.0\n",
       "6             Haseen Dillruba    6.21    135.0\n",
       "..                        ...     ...      ...\n",
       "913                 Premaatur    6.21    109.0\n",
       "920              Black Coffee    6.21    117.0\n",
       "922           The Closed Door    6.21     50.0\n",
       "927              Ek Nashebaaz    6.21    117.0\n",
       "944           Ae Kaash Ke Hum    6.21    117.0\n",
       "\n",
       "[253 rows x 3 columns]"
      ]
     },
     "execution_count": 73,
     "metadata": {},
     "output_type": "execute_result"
    }
   ],
   "source": [
    "f=data1[data1['Year']=='2021']\n",
    "f[['Name','Rating','Runtime']]"
   ]
  },
  {
   "cell_type": "code",
   "execution_count": 88,
   "id": "985434cd",
   "metadata": {},
   "outputs": [
    {
     "data": {
      "text/plain": [
       "<AxesSubplot:>"
      ]
     },
     "execution_count": 88,
     "metadata": {},
     "output_type": "execute_result"
    },
    {
     "data": {
      "image/png": "[encoded data removed]",
      "text/plain": [
       "<Figure size 432x288 with 1 Axes>"
      ]
     },
     "metadata": {
      "needs_background": "light"
     },
     "output_type": "display_data"
    }
   ],
   "source": [
    "f=data1[data1['Year']=='2021']\n",
    "f[['Name','Rating','Runtime']].plot()"
   ]
  },
  {
   "cell_type": "code",
   "execution_count": 74,
   "id": "02f4b4f6",
   "metadata": {},
   "outputs": [
    {
     "data": {
      "text/html": [
       "<div>\n",
       "<style scoped>\n",
       "    .dataframe tbody tr th:only-of-type {\n",
       "        vertical-align: middle;\n",
       "    }\n",
       "\n",
       "    .dataframe tbody tr th {\n",
       "        vertical-align: top;\n",
       "    }\n",
       "\n",
       "    .dataframe thead th {\n",
       "        text-align: right;\n",
       "    }\n",
       "</style>\n",
       "<table border=\"1\" class=\"dataframe\">\n",
       "  <thead>\n",
       "    <tr style=\"text-align: right;\">\n",
       "      <th></th>\n",
       "      <th>Name</th>\n",
       "      <th>Rating</th>\n",
       "      <th>Runtime</th>\n",
       "    </tr>\n",
       "  </thead>\n",
       "  <tbody>\n",
       "    <tr>\n",
       "      <th>5</th>\n",
       "      <td>Tumbbad</td>\n",
       "      <td>8.30</td>\n",
       "      <td>104.0</td>\n",
       "    </tr>\n",
       "    <tr>\n",
       "      <th>8</th>\n",
       "      <td>Hotel Mumbai</td>\n",
       "      <td>7.60</td>\n",
       "      <td>123.0</td>\n",
       "    </tr>\n",
       "    <tr>\n",
       "      <th>10</th>\n",
       "      <td>Andhadhun</td>\n",
       "      <td>8.20</td>\n",
       "      <td>139.0</td>\n",
       "    </tr>\n",
       "    <tr>\n",
       "      <th>20</th>\n",
       "      <td>Race 3</td>\n",
       "      <td>1.90</td>\n",
       "      <td>160.0</td>\n",
       "    </tr>\n",
       "    <tr>\n",
       "      <th>24</th>\n",
       "      <td>Uri: The Surgical Strike</td>\n",
       "      <td>8.20</td>\n",
       "      <td>138.0</td>\n",
       "    </tr>\n",
       "    <tr>\n",
       "      <th>...</th>\n",
       "      <td>...</td>\n",
       "      <td>...</td>\n",
       "      <td>...</td>\n",
       "    </tr>\n",
       "    <tr>\n",
       "      <th>896</th>\n",
       "      <td>Chausar</td>\n",
       "      <td>6.40</td>\n",
       "      <td>85.0</td>\n",
       "    </tr>\n",
       "    <tr>\n",
       "      <th>901</th>\n",
       "      <td>Delhi Bus</td>\n",
       "      <td>6.21</td>\n",
       "      <td>117.0</td>\n",
       "    </tr>\n",
       "    <tr>\n",
       "      <th>928</th>\n",
       "      <td>Ishq Tera</td>\n",
       "      <td>5.50</td>\n",
       "      <td>122.0</td>\n",
       "    </tr>\n",
       "    <tr>\n",
       "      <th>940</th>\n",
       "      <td>Bhoot Bhaijaan</td>\n",
       "      <td>6.21</td>\n",
       "      <td>105.0</td>\n",
       "    </tr>\n",
       "    <tr>\n",
       "      <th>941</th>\n",
       "      <td>Ok Mein Dhokhe</td>\n",
       "      <td>6.21</td>\n",
       "      <td>117.0</td>\n",
       "    </tr>\n",
       "  </tbody>\n",
       "</table>\n",
       "<p>164 rows × 3 columns</p>\n",
       "</div>"
      ],
      "text/plain": [
       "                         Name  Rating  Runtime\n",
       "5                     Tumbbad    8.30    104.0\n",
       "8                Hotel Mumbai    7.60    123.0\n",
       "10                  Andhadhun    8.20    139.0\n",
       "20                     Race 3    1.90    160.0\n",
       "24   Uri: The Surgical Strike    8.20    138.0\n",
       "..                        ...     ...      ...\n",
       "896                   Chausar    6.40     85.0\n",
       "901                 Delhi Bus    6.21    117.0\n",
       "928                 Ishq Tera    5.50    122.0\n",
       "940            Bhoot Bhaijaan    6.21    105.0\n",
       "941            Ok Mein Dhokhe    6.21    117.0\n",
       "\n",
       "[164 rows x 3 columns]"
      ]
     },
     "execution_count": 74,
     "metadata": {},
     "output_type": "execute_result"
    }
   ],
   "source": [
    "f=data1[data1['Year']=='2018']\n",
    "f[['Name','Rating','Runtime']]\n"
   ]
  },
  {
   "cell_type": "code",
   "execution_count": 75,
   "id": "15f9e409",
   "metadata": {},
   "outputs": [
    {
     "data": {
      "text/html": [
       "<div>\n",
       "<style scoped>\n",
       "    .dataframe tbody tr th:only-of-type {\n",
       "        vertical-align: middle;\n",
       "    }\n",
       "\n",
       "    .dataframe tbody tr th {\n",
       "        vertical-align: top;\n",
       "    }\n",
       "\n",
       "    .dataframe thead th {\n",
       "        text-align: right;\n",
       "    }\n",
       "</style>\n",
       "<table border=\"1\" class=\"dataframe\">\n",
       "  <thead>\n",
       "    <tr style=\"text-align: right;\">\n",
       "      <th></th>\n",
       "      <th>Name</th>\n",
       "      <th>Rating</th>\n",
       "      <th>Runtime</th>\n",
       "    </tr>\n",
       "  </thead>\n",
       "  <tbody>\n",
       "    <tr>\n",
       "      <th>15</th>\n",
       "      <td>99 Songs</td>\n",
       "      <td>7.40</td>\n",
       "      <td>128.0</td>\n",
       "    </tr>\n",
       "    <tr>\n",
       "      <th>16</th>\n",
       "      <td>Lucifer</td>\n",
       "      <td>7.50</td>\n",
       "      <td>175.0</td>\n",
       "    </tr>\n",
       "    <tr>\n",
       "      <th>22</th>\n",
       "      <td>Ramprasad Ki Tehrvi</td>\n",
       "      <td>7.60</td>\n",
       "      <td>115.0</td>\n",
       "    </tr>\n",
       "    <tr>\n",
       "      <th>25</th>\n",
       "      <td>Good Newwz</td>\n",
       "      <td>6.90</td>\n",
       "      <td>134.0</td>\n",
       "    </tr>\n",
       "    <tr>\n",
       "      <th>27</th>\n",
       "      <td>Article 15</td>\n",
       "      <td>8.20</td>\n",
       "      <td>130.0</td>\n",
       "    </tr>\n",
       "    <tr>\n",
       "      <th>...</th>\n",
       "      <td>...</td>\n",
       "      <td>...</td>\n",
       "      <td>...</td>\n",
       "    </tr>\n",
       "    <tr>\n",
       "      <th>937</th>\n",
       "      <td>Rescue</td>\n",
       "      <td>4.50</td>\n",
       "      <td>80.0</td>\n",
       "    </tr>\n",
       "    <tr>\n",
       "      <th>938</th>\n",
       "      <td>Brainwashed</td>\n",
       "      <td>6.21</td>\n",
       "      <td>117.0</td>\n",
       "    </tr>\n",
       "    <tr>\n",
       "      <th>942</th>\n",
       "      <td>Badmaash Bubbly</td>\n",
       "      <td>6.21</td>\n",
       "      <td>67.0</td>\n",
       "    </tr>\n",
       "    <tr>\n",
       "      <th>945</th>\n",
       "      <td>Miracle</td>\n",
       "      <td>6.21</td>\n",
       "      <td>117.0</td>\n",
       "    </tr>\n",
       "    <tr>\n",
       "      <th>948</th>\n",
       "      <td>Umakant Pandey Purush Ya</td>\n",
       "      <td>7.00</td>\n",
       "      <td>120.0</td>\n",
       "    </tr>\n",
       "  </tbody>\n",
       "</table>\n",
       "<p>219 rows × 3 columns</p>\n",
       "</div>"
      ],
      "text/plain": [
       "                         Name  Rating  Runtime\n",
       "15                   99 Songs    7.40    128.0\n",
       "16                    Lucifer    7.50    175.0\n",
       "22        Ramprasad Ki Tehrvi    7.60    115.0\n",
       "25                 Good Newwz    6.90    134.0\n",
       "27                 Article 15    8.20    130.0\n",
       "..                        ...     ...      ...\n",
       "937                    Rescue    4.50     80.0\n",
       "938               Brainwashed    6.21    117.0\n",
       "942           Badmaash Bubbly    6.21     67.0\n",
       "945                   Miracle    6.21    117.0\n",
       "948  Umakant Pandey Purush Ya    7.00    120.0\n",
       "\n",
       "[219 rows x 3 columns]"
      ]
     },
     "execution_count": 75,
     "metadata": {},
     "output_type": "execute_result"
    }
   ],
   "source": [
    "f=data1[data1['Year']=='2019']\n",
    "f[['Name','Rating','Runtime']]"
   ]
  },
  {
   "cell_type": "code",
   "execution_count": 89,
   "id": "5a39666c",
   "metadata": {},
   "outputs": [
    {
     "data": {
      "text/plain": [
       "<AxesSubplot:>"
      ]
     },
     "execution_count": 89,
     "metadata": {},
     "output_type": "execute_result"
    },
    {
     "data": {
      "image/png": "[encoded data removed]",
      "text/plain": [
       "<Figure size 432x288 with 1 Axes>"
      ]
     },
     "metadata": {
      "needs_background": "light"
     },
     "output_type": "display_data"
    }
   ],
   "source": [
    "f=data1[data1['Year']=='2019']\n",
    "f[['Name','Rating','Runtime']].plot()"
   ]
  },
  {
   "cell_type": "code",
   "execution_count": 78,
   "id": "24ea783b",
   "metadata": {},
   "outputs": [
    {
     "data": {
      "text/plain": [
       "<AxesSubplot:>"
      ]
     },
     "execution_count": 78,
     "metadata": {},
     "output_type": "execute_result"
    },
    {
     "data": {
      "image/png": "[encoded data removed]",
      "text/plain": [
       "<Figure size 432x288 with 1 Axes>"
      ]
     },
     "metadata": {
      "needs_background": "light"
     },
     "output_type": "display_data"
    }
   ],
   "source": [
    "f=data1[data1['Year']=='2019']\n",
    "f[['Name','Rating','Runtime']].plot()"
   ]
  }
 ],
 "metadata": {
  "kernelspec": {
   "display_name": "Python 3 (ipykernel)",
   "language": "python",
   "name": "python3"
  },
  "language_info": {
   "codemirror_mode": {
    "name": "ipython",
    "version": 3
   },
   "file_extension": ".py",
   "mimetype": "text/x-python",
   "name": "python",
   "nbconvert_exporter": "python",
   "pygments_lexer": "ipython3",
   "version": "3.9.12"
  }
 },
 "nbformat": 4,
 "nbformat_minor": 5
}
